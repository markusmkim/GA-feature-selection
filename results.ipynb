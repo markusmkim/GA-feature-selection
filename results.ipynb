{
 "cells": [
  {
   "cell_type": "markdown",
   "metadata": {},
   "source": [
    "### Imports"
   ]
  },
  {
   "cell_type": "code",
   "execution_count": 15,
   "metadata": {},
   "outputs": [],
   "source": [
    "import numpy as np\n",
    "import pickle\n",
    "import pandas as pd\n",
    "import matplotlib.pyplot as plt\n",
    "import seaborn as sns\n",
    "\n",
    "from GA.utils import get_avg_fitness, entropy\n",
    "from GA.algorithm import run_ga\n",
    "from metrics.lin_reg import get_fitness_lin_reg, get_fitness_log_reg, get_columns, train_lin_reg\n",
    "from visualizers.plotters import plot_evolution"
   ]
  },
  {
   "cell_type": "markdown",
   "metadata": {},
   "source": [
    "### Data paths"
   ]
  },
  {
   "cell_type": "code",
   "execution_count": 5,
   "metadata": {},
   "outputs": [],
   "source": [
    "linear_results_path = 'data/linear_results_dict.pickle'\n",
    "binary_results_path = 'data/binary_results_dict.pickle'\n",
    "features_path = 'data/feature_sets.pickle'\n",
    "linear_targets_path = 'data/linear_target_sets.pickle'\n",
    "binary_targets_path = 'data/binary_target_sets.pickle'"
   ]
  },
  {
   "cell_type": "markdown",
   "metadata": {},
   "source": [
    "### Load data"
   ]
  },
  {
   "cell_type": "code",
   "execution_count": 6,
   "metadata": {},
   "outputs": [],
   "source": [
    "with open(linear_results_path, 'rb') as file:\n",
    "    linear_results = pickle.load(file)\n",
    "\n",
    "with open(binary_results_path, 'rb') as file:\n",
    "    binary_results = pickle.load(file)\n",
    "\n",
    "with open(features_path, 'rb') as file:\n",
    "    feature_sets = pickle.load(file)\n",
    "\n",
    "with open(linear_targets_path, 'rb') as file:\n",
    "    linear_target_sets = pickle.load(file)\n",
    "\n",
    "with open(binary_targets_path, 'rb') as file:\n",
    "    binary_target_sets = pickle.load(file)\n"
   ]
  },
  {
   "cell_type": "markdown",
   "metadata": {},
   "source": [
    "### Evaluate results"
   ]
  },
  {
   "cell_type": "code",
   "execution_count": 10,
   "metadata": {},
   "outputs": [],
   "source": [
    "errors = {}\n",
    "for target_key in linear_target_sets.keys():\n",
    "    errors[target_key] = {}\n",
    "    for feature_key in feature_sets.keys():\n",
    "        features = feature_sets[feature_key]\n",
    "        targets = linear_target_sets[target_key]\n",
    "        initial_mse, initial_mae, = get_fitness_lin_reg(features.to_numpy(), targets.to_numpy(), n_splits=5, include_mae=True)\n",
    "        bitstring = linear_results[target_key][feature_key]\n",
    "        final_mse, final_mae = get_fitness_lin_reg(get_columns(features, bitstring), targets.to_numpy(), n_splits=5, include_mae=True)\n",
    "        errors[target_key][feature_key] = {\n",
    "            'initial_mse': initial_mse,\n",
    "            'final_mse': final_mse,\n",
    "            'initial_mae': initial_mae,\n",
    "            'final_mae': final_mae\n",
    "        }"
   ]
  },
  {
   "cell_type": "code",
   "execution_count": 11,
   "metadata": {},
   "outputs": [],
   "source": [
    "scores = {}\n",
    "for target_key in binary_target_sets.keys():\n",
    "    scores[target_key] = {}\n",
    "    for feature_key in feature_sets.keys():\n",
    "        features = feature_sets[feature_key]\n",
    "        targets = binary_target_sets[target_key]\n",
    "        initial_score = get_fitness_log_reg(features.to_numpy(), targets.to_numpy(), n_splits=5)\n",
    "        bitstring = binary_results[target_key][feature_key]\n",
    "        final_score = get_fitness_log_reg(get_columns(features, bitstring), targets.to_numpy(), n_splits=5)\n",
    "        scores[target_key][feature_key] = {\n",
    "            'initial_score': initial_score,\n",
    "            'final_score': final_score\n",
    "        }"
   ]
  },
  {
   "cell_type": "code",
   "execution_count": 12,
   "metadata": {},
   "outputs": [
    {
     "name": "stdout",
     "output_type": "stream",
     "text": [
      "\n",
      " player_season_obv_90_next_season\n"
     ]
    },
    {
     "data": {
      "text/html": [
       "<div>\n",
       "<style scoped>\n",
       "    .dataframe tbody tr th:only-of-type {\n",
       "        vertical-align: middle;\n",
       "    }\n",
       "\n",
       "    .dataframe tbody tr th {\n",
       "        vertical-align: top;\n",
       "    }\n",
       "\n",
       "    .dataframe thead th {\n",
       "        text-align: right;\n",
       "    }\n",
       "</style>\n",
       "<table border=\"1\" class=\"dataframe\">\n",
       "  <thead>\n",
       "    <tr style=\"text-align: right;\">\n",
       "      <th></th>\n",
       "      <th>two_season</th>\n",
       "      <th>two_season_soccermix_history</th>\n",
       "      <th>two_season_soccermix_all</th>\n",
       "    </tr>\n",
       "  </thead>\n",
       "  <tbody>\n",
       "    <tr>\n",
       "      <th>initial_mse</th>\n",
       "      <td>0.006442</td>\n",
       "      <td>0.006836</td>\n",
       "      <td>0.005109</td>\n",
       "    </tr>\n",
       "    <tr>\n",
       "      <th>final_mse</th>\n",
       "      <td>0.005865</td>\n",
       "      <td>0.005884</td>\n",
       "      <td>0.004425</td>\n",
       "    </tr>\n",
       "    <tr>\n",
       "      <th>initial_mae</th>\n",
       "      <td>0.058886</td>\n",
       "      <td>0.060915</td>\n",
       "      <td>0.052696</td>\n",
       "    </tr>\n",
       "    <tr>\n",
       "      <th>final_mae</th>\n",
       "      <td>0.056243</td>\n",
       "      <td>0.056223</td>\n",
       "      <td>0.048957</td>\n",
       "    </tr>\n",
       "  </tbody>\n",
       "</table>\n",
       "</div>"
      ],
      "text/plain": [
       "             two_season  two_season_soccermix_history  \\\n",
       "initial_mse    0.006442                      0.006836   \n",
       "final_mse      0.005865                      0.005884   \n",
       "initial_mae    0.058886                      0.060915   \n",
       "final_mae      0.056243                      0.056223   \n",
       "\n",
       "             two_season_soccermix_all  \n",
       "initial_mse                  0.005109  \n",
       "final_mse                    0.004425  \n",
       "initial_mae                  0.052696  \n",
       "final_mae                    0.048957  "
      ]
     },
     "metadata": {},
     "output_type": "display_data"
    },
    {
     "name": "stdout",
     "output_type": "stream",
     "text": [
      "\n",
      " player_season_obv_dribble_carry_90_next_season\n"
     ]
    },
    {
     "data": {
      "text/html": [
       "<div>\n",
       "<style scoped>\n",
       "    .dataframe tbody tr th:only-of-type {\n",
       "        vertical-align: middle;\n",
       "    }\n",
       "\n",
       "    .dataframe tbody tr th {\n",
       "        vertical-align: top;\n",
       "    }\n",
       "\n",
       "    .dataframe thead th {\n",
       "        text-align: right;\n",
       "    }\n",
       "</style>\n",
       "<table border=\"1\" class=\"dataframe\">\n",
       "  <thead>\n",
       "    <tr style=\"text-align: right;\">\n",
       "      <th></th>\n",
       "      <th>two_season</th>\n",
       "      <th>two_season_soccermix_history</th>\n",
       "      <th>two_season_soccermix_all</th>\n",
       "    </tr>\n",
       "  </thead>\n",
       "  <tbody>\n",
       "    <tr>\n",
       "      <th>initial_mse</th>\n",
       "      <td>0.003436</td>\n",
       "      <td>0.003501</td>\n",
       "      <td>0.002224</td>\n",
       "    </tr>\n",
       "    <tr>\n",
       "      <th>final_mse</th>\n",
       "      <td>0.003085</td>\n",
       "      <td>0.003072</td>\n",
       "      <td>0.001979</td>\n",
       "    </tr>\n",
       "    <tr>\n",
       "      <th>initial_mae</th>\n",
       "      <td>0.040415</td>\n",
       "      <td>0.041534</td>\n",
       "      <td>0.032619</td>\n",
       "    </tr>\n",
       "    <tr>\n",
       "      <th>final_mae</th>\n",
       "      <td>0.038085</td>\n",
       "      <td>0.038611</td>\n",
       "      <td>0.030375</td>\n",
       "    </tr>\n",
       "  </tbody>\n",
       "</table>\n",
       "</div>"
      ],
      "text/plain": [
       "             two_season  two_season_soccermix_history  \\\n",
       "initial_mse    0.003436                      0.003501   \n",
       "final_mse      0.003085                      0.003072   \n",
       "initial_mae    0.040415                      0.041534   \n",
       "final_mae      0.038085                      0.038611   \n",
       "\n",
       "             two_season_soccermix_all  \n",
       "initial_mse                  0.002224  \n",
       "final_mse                    0.001979  \n",
       "initial_mae                  0.032619  \n",
       "final_mae                    0.030375  "
      ]
     },
     "metadata": {},
     "output_type": "display_data"
    },
    {
     "name": "stdout",
     "output_type": "stream",
     "text": [
      "\n",
      " player_season_obv_pass_90_next_season\n"
     ]
    },
    {
     "data": {
      "text/html": [
       "<div>\n",
       "<style scoped>\n",
       "    .dataframe tbody tr th:only-of-type {\n",
       "        vertical-align: middle;\n",
       "    }\n",
       "\n",
       "    .dataframe tbody tr th {\n",
       "        vertical-align: top;\n",
       "    }\n",
       "\n",
       "    .dataframe thead th {\n",
       "        text-align: right;\n",
       "    }\n",
       "</style>\n",
       "<table border=\"1\" class=\"dataframe\">\n",
       "  <thead>\n",
       "    <tr style=\"text-align: right;\">\n",
       "      <th></th>\n",
       "      <th>two_season</th>\n",
       "      <th>two_season_soccermix_history</th>\n",
       "      <th>two_season_soccermix_all</th>\n",
       "    </tr>\n",
       "  </thead>\n",
       "  <tbody>\n",
       "    <tr>\n",
       "      <th>initial_mse</th>\n",
       "      <td>0.006390</td>\n",
       "      <td>0.006790</td>\n",
       "      <td>0.004761</td>\n",
       "    </tr>\n",
       "    <tr>\n",
       "      <th>final_mse</th>\n",
       "      <td>0.005960</td>\n",
       "      <td>0.005909</td>\n",
       "      <td>0.004113</td>\n",
       "    </tr>\n",
       "    <tr>\n",
       "      <th>initial_mae</th>\n",
       "      <td>0.059365</td>\n",
       "      <td>0.061243</td>\n",
       "      <td>0.050788</td>\n",
       "    </tr>\n",
       "    <tr>\n",
       "      <th>final_mae</th>\n",
       "      <td>0.057083</td>\n",
       "      <td>0.056945</td>\n",
       "      <td>0.047012</td>\n",
       "    </tr>\n",
       "  </tbody>\n",
       "</table>\n",
       "</div>"
      ],
      "text/plain": [
       "             two_season  two_season_soccermix_history  \\\n",
       "initial_mse    0.006390                      0.006790   \n",
       "final_mse      0.005960                      0.005909   \n",
       "initial_mae    0.059365                      0.061243   \n",
       "final_mae      0.057083                      0.056945   \n",
       "\n",
       "             two_season_soccermix_all  \n",
       "initial_mse                  0.004761  \n",
       "final_mse                    0.004113  \n",
       "initial_mae                  0.050788  \n",
       "final_mae                    0.047012  "
      ]
     },
     "metadata": {},
     "output_type": "display_data"
    },
    {
     "name": "stdout",
     "output_type": "stream",
     "text": [
      "\n",
      " player_season_obv_shot_90_next_season\n"
     ]
    },
    {
     "data": {
      "text/html": [
       "<div>\n",
       "<style scoped>\n",
       "    .dataframe tbody tr th:only-of-type {\n",
       "        vertical-align: middle;\n",
       "    }\n",
       "\n",
       "    .dataframe tbody tr th {\n",
       "        vertical-align: top;\n",
       "    }\n",
       "\n",
       "    .dataframe thead th {\n",
       "        text-align: right;\n",
       "    }\n",
       "</style>\n",
       "<table border=\"1\" class=\"dataframe\">\n",
       "  <thead>\n",
       "    <tr style=\"text-align: right;\">\n",
       "      <th></th>\n",
       "      <th>two_season</th>\n",
       "      <th>two_season_soccermix_history</th>\n",
       "      <th>two_season_soccermix_all</th>\n",
       "    </tr>\n",
       "  </thead>\n",
       "  <tbody>\n",
       "    <tr>\n",
       "      <th>initial_mse</th>\n",
       "      <td>0.007701</td>\n",
       "      <td>0.007449</td>\n",
       "      <td>0.007440</td>\n",
       "    </tr>\n",
       "    <tr>\n",
       "      <th>final_mse</th>\n",
       "      <td>0.006553</td>\n",
       "      <td>0.006583</td>\n",
       "      <td>0.006397</td>\n",
       "    </tr>\n",
       "    <tr>\n",
       "      <th>initial_mae</th>\n",
       "      <td>0.058314</td>\n",
       "      <td>0.057607</td>\n",
       "      <td>0.059247</td>\n",
       "    </tr>\n",
       "    <tr>\n",
       "      <th>final_mae</th>\n",
       "      <td>0.052640</td>\n",
       "      <td>0.053432</td>\n",
       "      <td>0.053629</td>\n",
       "    </tr>\n",
       "  </tbody>\n",
       "</table>\n",
       "</div>"
      ],
      "text/plain": [
       "             two_season  two_season_soccermix_history  \\\n",
       "initial_mse    0.007701                      0.007449   \n",
       "final_mse      0.006553                      0.006583   \n",
       "initial_mae    0.058314                      0.057607   \n",
       "final_mae      0.052640                      0.053432   \n",
       "\n",
       "             two_season_soccermix_all  \n",
       "initial_mse                  0.007440  \n",
       "final_mse                    0.006397  \n",
       "initial_mae                  0.059247  \n",
       "final_mae                    0.053629  "
      ]
     },
     "metadata": {},
     "output_type": "display_data"
    },
    {
     "name": "stdout",
     "output_type": "stream",
     "text": [
      "\n",
      " player_season_obv_defensive_action_90_next_season\n"
     ]
    },
    {
     "data": {
      "text/html": [
       "<div>\n",
       "<style scoped>\n",
       "    .dataframe tbody tr th:only-of-type {\n",
       "        vertical-align: middle;\n",
       "    }\n",
       "\n",
       "    .dataframe tbody tr th {\n",
       "        vertical-align: top;\n",
       "    }\n",
       "\n",
       "    .dataframe thead th {\n",
       "        text-align: right;\n",
       "    }\n",
       "</style>\n",
       "<table border=\"1\" class=\"dataframe\">\n",
       "  <thead>\n",
       "    <tr style=\"text-align: right;\">\n",
       "      <th></th>\n",
       "      <th>two_season</th>\n",
       "      <th>two_season_soccermix_history</th>\n",
       "      <th>two_season_soccermix_all</th>\n",
       "    </tr>\n",
       "  </thead>\n",
       "  <tbody>\n",
       "    <tr>\n",
       "      <th>initial_mse</th>\n",
       "      <td>0.006706</td>\n",
       "      <td>0.007349</td>\n",
       "      <td>0.006600</td>\n",
       "    </tr>\n",
       "    <tr>\n",
       "      <th>final_mse</th>\n",
       "      <td>0.006329</td>\n",
       "      <td>0.006343</td>\n",
       "      <td>0.005657</td>\n",
       "    </tr>\n",
       "    <tr>\n",
       "      <th>initial_mae</th>\n",
       "      <td>0.058214</td>\n",
       "      <td>0.061733</td>\n",
       "      <td>0.058518</td>\n",
       "    </tr>\n",
       "    <tr>\n",
       "      <th>final_mae</th>\n",
       "      <td>0.056220</td>\n",
       "      <td>0.056628</td>\n",
       "      <td>0.053380</td>\n",
       "    </tr>\n",
       "  </tbody>\n",
       "</table>\n",
       "</div>"
      ],
      "text/plain": [
       "             two_season  two_season_soccermix_history  \\\n",
       "initial_mse    0.006706                      0.007349   \n",
       "final_mse      0.006329                      0.006343   \n",
       "initial_mae    0.058214                      0.061733   \n",
       "final_mae      0.056220                      0.056628   \n",
       "\n",
       "             two_season_soccermix_all  \n",
       "initial_mse                  0.006600  \n",
       "final_mse                    0.005657  \n",
       "initial_mae                  0.058518  \n",
       "final_mae                    0.053380  "
      ]
     },
     "metadata": {},
     "output_type": "display_data"
    }
   ],
   "source": [
    "for key in errors.keys():\n",
    "    print('\\n', key)\n",
    "    display(pd.DataFrame(errors[key]))"
   ]
  },
  {
   "cell_type": "code",
   "execution_count": 13,
   "metadata": {},
   "outputs": [
    {
     "name": "stdout",
     "output_type": "stream",
     "text": [
      "\n",
      " player_season_obv_90_increase\n"
     ]
    },
    {
     "data": {
      "text/html": [
       "<div>\n",
       "<style scoped>\n",
       "    .dataframe tbody tr th:only-of-type {\n",
       "        vertical-align: middle;\n",
       "    }\n",
       "\n",
       "    .dataframe tbody tr th {\n",
       "        vertical-align: top;\n",
       "    }\n",
       "\n",
       "    .dataframe thead th {\n",
       "        text-align: right;\n",
       "    }\n",
       "</style>\n",
       "<table border=\"1\" class=\"dataframe\">\n",
       "  <thead>\n",
       "    <tr style=\"text-align: right;\">\n",
       "      <th></th>\n",
       "      <th>two_season</th>\n",
       "      <th>two_season_soccermix_history</th>\n",
       "      <th>two_season_soccermix_all</th>\n",
       "    </tr>\n",
       "  </thead>\n",
       "  <tbody>\n",
       "    <tr>\n",
       "      <th>initial_score</th>\n",
       "      <td>0.687057</td>\n",
       "      <td>0.687059</td>\n",
       "      <td>0.739940</td>\n",
       "    </tr>\n",
       "    <tr>\n",
       "      <th>final_score</th>\n",
       "      <td>0.711328</td>\n",
       "      <td>0.713857</td>\n",
       "      <td>0.757689</td>\n",
       "    </tr>\n",
       "  </tbody>\n",
       "</table>\n",
       "</div>"
      ],
      "text/plain": [
       "               two_season  two_season_soccermix_history  \\\n",
       "initial_score    0.687057                      0.687059   \n",
       "final_score      0.711328                      0.713857   \n",
       "\n",
       "               two_season_soccermix_all  \n",
       "initial_score                  0.739940  \n",
       "final_score                    0.757689  "
      ]
     },
     "metadata": {},
     "output_type": "display_data"
    },
    {
     "name": "stdout",
     "output_type": "stream",
     "text": [
      "\n",
      " player_season_obv_dribble_carry_90_increase\n"
     ]
    },
    {
     "data": {
      "text/html": [
       "<div>\n",
       "<style scoped>\n",
       "    .dataframe tbody tr th:only-of-type {\n",
       "        vertical-align: middle;\n",
       "    }\n",
       "\n",
       "    .dataframe tbody tr th {\n",
       "        vertical-align: top;\n",
       "    }\n",
       "\n",
       "    .dataframe thead th {\n",
       "        text-align: right;\n",
       "    }\n",
       "</style>\n",
       "<table border=\"1\" class=\"dataframe\">\n",
       "  <thead>\n",
       "    <tr style=\"text-align: right;\">\n",
       "      <th></th>\n",
       "      <th>two_season</th>\n",
       "      <th>two_season_soccermix_history</th>\n",
       "      <th>two_season_soccermix_all</th>\n",
       "    </tr>\n",
       "  </thead>\n",
       "  <tbody>\n",
       "    <tr>\n",
       "      <th>initial_score</th>\n",
       "      <td>0.662798</td>\n",
       "      <td>0.652655</td>\n",
       "      <td>0.721827</td>\n",
       "    </tr>\n",
       "    <tr>\n",
       "      <th>final_score</th>\n",
       "      <td>0.692495</td>\n",
       "      <td>0.689600</td>\n",
       "      <td>0.750086</td>\n",
       "    </tr>\n",
       "  </tbody>\n",
       "</table>\n",
       "</div>"
      ],
      "text/plain": [
       "               two_season  two_season_soccermix_history  \\\n",
       "initial_score    0.662798                      0.652655   \n",
       "final_score      0.692495                      0.689600   \n",
       "\n",
       "               two_season_soccermix_all  \n",
       "initial_score                  0.721827  \n",
       "final_score                    0.750086  "
      ]
     },
     "metadata": {},
     "output_type": "display_data"
    },
    {
     "name": "stdout",
     "output_type": "stream",
     "text": [
      "\n",
      " player_season_obv_pass_90_increase\n"
     ]
    },
    {
     "data": {
      "text/html": [
       "<div>\n",
       "<style scoped>\n",
       "    .dataframe tbody tr th:only-of-type {\n",
       "        vertical-align: middle;\n",
       "    }\n",
       "\n",
       "    .dataframe tbody tr th {\n",
       "        vertical-align: top;\n",
       "    }\n",
       "\n",
       "    .dataframe thead th {\n",
       "        text-align: right;\n",
       "    }\n",
       "</style>\n",
       "<table border=\"1\" class=\"dataframe\">\n",
       "  <thead>\n",
       "    <tr style=\"text-align: right;\">\n",
       "      <th></th>\n",
       "      <th>two_season</th>\n",
       "      <th>two_season_soccermix_history</th>\n",
       "      <th>two_season_soccermix_all</th>\n",
       "    </tr>\n",
       "  </thead>\n",
       "  <tbody>\n",
       "    <tr>\n",
       "      <th>initial_score</th>\n",
       "      <td>0.633827</td>\n",
       "      <td>0.626213</td>\n",
       "      <td>0.696851</td>\n",
       "    </tr>\n",
       "    <tr>\n",
       "      <th>final_score</th>\n",
       "      <td>0.666422</td>\n",
       "      <td>0.658818</td>\n",
       "      <td>0.725826</td>\n",
       "    </tr>\n",
       "  </tbody>\n",
       "</table>\n",
       "</div>"
      ],
      "text/plain": [
       "               two_season  two_season_soccermix_history  \\\n",
       "initial_score    0.633827                      0.626213   \n",
       "final_score      0.666422                      0.658818   \n",
       "\n",
       "               two_season_soccermix_all  \n",
       "initial_score                  0.696851  \n",
       "final_score                    0.725826  "
      ]
     },
     "metadata": {},
     "output_type": "display_data"
    },
    {
     "name": "stdout",
     "output_type": "stream",
     "text": [
      "\n",
      " player_season_obv_shot_90_increase\n"
     ]
    },
    {
     "data": {
      "text/html": [
       "<div>\n",
       "<style scoped>\n",
       "    .dataframe tbody tr th:only-of-type {\n",
       "        vertical-align: middle;\n",
       "    }\n",
       "\n",
       "    .dataframe tbody tr th {\n",
       "        vertical-align: top;\n",
       "    }\n",
       "\n",
       "    .dataframe thead th {\n",
       "        text-align: right;\n",
       "    }\n",
       "</style>\n",
       "<table border=\"1\" class=\"dataframe\">\n",
       "  <thead>\n",
       "    <tr style=\"text-align: right;\">\n",
       "      <th></th>\n",
       "      <th>two_season</th>\n",
       "      <th>two_season_soccermix_history</th>\n",
       "      <th>two_season_soccermix_all</th>\n",
       "    </tr>\n",
       "  </thead>\n",
       "  <tbody>\n",
       "    <tr>\n",
       "      <th>initial_score</th>\n",
       "      <td>0.700107</td>\n",
       "      <td>0.695754</td>\n",
       "      <td>0.697569</td>\n",
       "    </tr>\n",
       "    <tr>\n",
       "      <th>final_score</th>\n",
       "      <td>0.730893</td>\n",
       "      <td>0.727631</td>\n",
       "      <td>0.728358</td>\n",
       "    </tr>\n",
       "  </tbody>\n",
       "</table>\n",
       "</div>"
      ],
      "text/plain": [
       "               two_season  two_season_soccermix_history  \\\n",
       "initial_score    0.700107                      0.695754   \n",
       "final_score      0.730893                      0.727631   \n",
       "\n",
       "               two_season_soccermix_all  \n",
       "initial_score                  0.697569  \n",
       "final_score                    0.728358  "
      ]
     },
     "metadata": {},
     "output_type": "display_data"
    },
    {
     "name": "stdout",
     "output_type": "stream",
     "text": [
      "\n",
      " player_season_obv_defensive_action_90_increase\n"
     ]
    },
    {
     "data": {
      "text/html": [
       "<div>\n",
       "<style scoped>\n",
       "    .dataframe tbody tr th:only-of-type {\n",
       "        vertical-align: middle;\n",
       "    }\n",
       "\n",
       "    .dataframe tbody tr th {\n",
       "        vertical-align: top;\n",
       "    }\n",
       "\n",
       "    .dataframe thead th {\n",
       "        text-align: right;\n",
       "    }\n",
       "</style>\n",
       "<table border=\"1\" class=\"dataframe\">\n",
       "  <thead>\n",
       "    <tr style=\"text-align: right;\">\n",
       "      <th></th>\n",
       "      <th>two_season</th>\n",
       "      <th>two_season_soccermix_history</th>\n",
       "      <th>two_season_soccermix_all</th>\n",
       "    </tr>\n",
       "  </thead>\n",
       "  <tbody>\n",
       "    <tr>\n",
       "      <th>initial_score</th>\n",
       "      <td>0.707725</td>\n",
       "      <td>0.703381</td>\n",
       "      <td>0.720042</td>\n",
       "    </tr>\n",
       "    <tr>\n",
       "      <th>final_score</th>\n",
       "      <td>0.738879</td>\n",
       "      <td>0.739961</td>\n",
       "      <td>0.756974</td>\n",
       "    </tr>\n",
       "  </tbody>\n",
       "</table>\n",
       "</div>"
      ],
      "text/plain": [
       "               two_season  two_season_soccermix_history  \\\n",
       "initial_score    0.707725                      0.703381   \n",
       "final_score      0.738879                      0.739961   \n",
       "\n",
       "               two_season_soccermix_all  \n",
       "initial_score                  0.720042  \n",
       "final_score                    0.756974  "
      ]
     },
     "metadata": {},
     "output_type": "display_data"
    }
   ],
   "source": [
    "for key in scores.keys():\n",
    "    print('\\n', key)\n",
    "    display(pd.DataFrame(scores[key]))"
   ]
  },
  {
   "cell_type": "code",
   "execution_count": null,
   "metadata": {},
   "outputs": [],
   "source": [
    "for target_key in linear_target_sets.keys():\n",
    "    errors[target_key] = {}\n",
    "    for feature_key in feature_sets.keys():\n",
    "        features = feature_sets[feature_key]\n",
    "        targets = linear_target_sets[target_key]\n",
    "        bitstring = linear_results[target_key][feature_key]\n",
    "        print(bitstring)"
   ]
  },
  {
   "cell_type": "code",
   "execution_count": null,
   "metadata": {},
   "outputs": [],
   "source": [
    "# columns_included = []\n",
    "# for key in linear_results:\n",
    "#     bitstring = linear_results[key]['final_bitstring']\n",
    "#     columns = [int(b) for b in bitstring]\n",
    "#     columns_included.append(columns)\n",
    "\n",
    "# columns_included = np.array(columns_included)\n",
    "# res = np.sum(columns_included, axis=0)"
   ]
  },
  {
   "cell_type": "code",
   "execution_count": null,
   "metadata": {},
   "outputs": [],
   "source": [
    "not_used = features.iloc[:, col_indexes_not_used]\n",
    "not_used.columns"
   ]
  },
  {
   "cell_type": "code",
   "execution_count": null,
   "metadata": {},
   "outputs": [],
   "source": [
    "# _bitstring = ''.join(['1' if bit > 1 else '0' for bit in res])\n",
    "# _bitstring = final_population[0].genotype\n",
    "_bitstring = results['player_season_obv_90_next_season']['two_season_soccermix_history']['final_bitstring']"
   ]
  },
  {
   "cell_type": "code",
   "execution_count": null,
   "metadata": {},
   "outputs": [],
   "source": [
    "_bitstring "
   ]
  },
  {
   "cell_type": "code",
   "execution_count": 17,
   "metadata": {},
   "outputs": [],
   "source": [
    "features = feature_sets['two_season']\n",
    "targets = linear_target_sets['player_season_obv_90_next_season']\n",
    "_bitstring = linear_results['player_season_obv_90_next_season']['two_season']\n",
    "model = train_lin_reg(get_columns(features, _bitstring), targets.to_numpy())\n",
    "\n",
    "col_indexes_used = []\n",
    "col_indexes_not_used = []\n",
    "for i in range(len(_bitstring)):\n",
    "    if _bitstring[i] == '1':\n",
    "        col_indexes_used.append(i)\n",
    "    else:\n",
    "        col_indexes_not_used.append(i)\n",
    "\n",
    "_features = features.iloc[:, col_indexes_used]"
   ]
  },
  {
   "cell_type": "code",
   "execution_count": 27,
   "metadata": {},
   "outputs": [
    {
     "data": {
      "text/plain": [
       "<AxesSubplot:>"
      ]
     },
     "execution_count": 27,
     "metadata": {},
     "output_type": "execute_result"
    },
    {
     "data": {
      "image/png": "[encoded data removed]",
      "text/plain": [
       "<Figure size 1440x1152 with 1 Axes>"
      ]
     },
     "metadata": {
      "needs_background": "light"
     },
     "output_type": "display_data"
    }
   ],
   "source": [
    "coeff_series = pd.Series(model.coef_, _features.columns)\n",
    "# coeff_series = coeff_series.drop([\n",
    "#     # 'player_season_ot_shots_faced_ratio',\n",
    "#     'player_season_ot_shots_faced_90',\n",
    "#     'player_season_gsaa_ratio',\n",
    "#     # 'player_season_np_psxg_faced_90',\n",
    "#     'player_season_goals_faced_90',\n",
    "#     'player_season_clcaa',\n",
    "#     'player_season_gsaa_90',\n",
    "#     # 'player_season_npot_psxg_faced_90',\n",
    "#     # 'player_season_da_aggressive_distance',\n",
    "#     # 'player_season_xs_ratio',\n",
    "#     'league_market_value',\n",
    "#     'league_market_value_next_season',\n",
    "#     'league_market_value_diff'\n",
    "# ])\n",
    "plt.rcParams[\"figure.figsize\"] = (20, 16)  # set plot size\n",
    "sns.barplot(x=coeff_series.values, y=coeff_series.index)"
   ]
  },
  {
   "cell_type": "code",
   "execution_count": 19,
   "metadata": {},
   "outputs": [
    {
     "name": "stdout",
     "output_type": "stream",
     "text": [
      "Columns that did not make it: \n"
     ]
    },
    {
     "data": {
      "text/plain": [
       "['player_season_obv_dribble_carry_90',\n",
       " 'player_season_obv_pass_90',\n",
       " 'player_season_obv_shot_90',\n",
       " 'player_season_sp_key_passes_90',\n",
       " 'player_season_dribbles_90',\n",
       " 'player_season_long_balls_90',\n",
       " 'player_season_xgbuildup',\n",
       " 'player_season_unpressured_long_balls_90',\n",
       " 'player_season_op_f3_sideways_pass_proportion',\n",
       " 'player_season_pressured_pass_length_ratio',\n",
       " 'player_season_box_cross_ratio',\n",
       " 'player_season_red_cards_90',\n",
       " 'player_season_fhalf_counterpressures_90',\n",
       " 'player_season_conversion_ratio',\n",
       " 'player_season_padj_pressures_90',\n",
       " 'player_season_average_x_defensive_action',\n",
       " 'player_season_through_balls_90',\n",
       " 'player_season_penalty_conversion_ratio',\n",
       " 'player_season_total_dribbles_90',\n",
       " 'player_season_xgchain_per_possession',\n",
       " 'player_season_pressured_long_balls_90',\n",
       " 'player_season_op_xgchain_90',\n",
       " 'player_season_fhalf_ball_recoveries_90',\n",
       " 'player_season_op_f3_forward_pass_proportion',\n",
       " 'player_season_np_xg_per_shot',\n",
       " 'player_season_passes_inside_box_90',\n",
       " 'player_season_pressure_regains_90',\n",
       " 'player_season_touches_inside_box_90',\n",
       " 'player_season_dispossessions_90',\n",
       " 'player_season_s_pass_length',\n",
       " 'player_season_counterpressures_90',\n",
       " 'player_season_forward_pass_proportion',\n",
       " 'player_season_shots_key_passes_90',\n",
       " 'player_season_xgchain',\n",
       " 'player_season_carry_length',\n",
       " 'player_season_carry_ratio',\n",
       " 'player_season_positive_outcome_90',\n",
       " 'player_season_change_in_passing_ratio',\n",
       " 'player_season_pass_length',\n",
       " 'player_season_long_ball_ratio',\n",
       " 'player_season_backward_pass_proportion',\n",
       " 'player_season_xgbuildup_per_possession',\n",
       " 'player_season_failed_dribbles_90',\n",
       " 'player_season_fhalf_pressures_ratio',\n",
       " 'player_season_over_under_performance_90',\n",
       " 'player_season_counterpressure_regains_90',\n",
       " 'player_season_pass_into_pressure_ratio',\n",
       " 'player_season_op_passes_90',\n",
       " 'player_season_fhalf_pressures_90',\n",
       " 'player_season_pass_into_danger_ratio',\n",
       " 'player_season_errors_90',\n",
       " 'player_season_crossing_ratio',\n",
       " 'player_season_yellow_cards_90',\n",
       " 'player_season_padj_clearances_90',\n",
       " 'player_season_xgbuildup_90',\n",
       " 'player_season_dribble_ratio',\n",
       " 'player_season_pass_length_ratio',\n",
       " 'player_season_npg_90',\n",
       " 'player_season_pressured_passing_ratio',\n",
       " 'player_season_tackles_and_interceptions_90',\n",
       " 'player_season_fhalf_counterpressures_ratio',\n",
       " 'player_season_ball_recoveries_90',\n",
       " 'player_season_average_x_pressure',\n",
       " 'player_season_padj_interceptions_90',\n",
       " 'player_season_op_xgchain_per_possession',\n",
       " 'player_season_ps_pass_length',\n",
       " 'player_season_carries_90',\n",
       " 'player_season_deep_completions_90',\n",
       " 'player_season_goals_90',\n",
       " 'player_season_minutes',\n",
       " 'player_season_op_f3_backward_pass_proportion',\n",
       " 'player_season_sp_assists_90',\n",
       " 'player_season_op_key_passes_90',\n",
       " 'player_season_second_yellow_cards_90',\n",
       " 'player_season_aerial_ratio',\n",
       " 'player_season_positive_outcome_score',\n",
       " 'player_season_xa_90',\n",
       " 'player_season_op_xgbuildup_per_possession',\n",
       " 'player_season_sp_xa_90',\n",
       " 'player_season_dribbled_past_90',\n",
       " 'player_season_shot_on_target_ratio',\n",
       " 'player_season_starting_appearances',\n",
       " 'position_Centre Back',\n",
       " 'position_Full Back',\n",
       " 'position_Winger']"
      ]
     },
     "execution_count": 19,
     "metadata": {},
     "output_type": "execute_result"
    }
   ],
   "source": [
    "print('Columns that did not make it: ')\n",
    "list(features.iloc[:, col_indexes_not_used].columns)"
   ]
  },
  {
   "cell_type": "code",
   "execution_count": null,
   "metadata": {},
   "outputs": [],
   "source": [
    "coeff_series = pd.Series(model.coef_, _features.columns)\n",
    "coeff_series = coeff_series['pass_0_1': 'bad_touch_4']\n",
    "plt.rcParams[\"figure.figsize\"] = (20, 30)  # set plot size\n",
    "sns.barplot(x=coeff_series.values, y=coeff_series.index)"
   ]
  },
  {
   "cell_type": "code",
   "execution_count": null,
   "metadata": {},
   "outputs": [],
   "source": [
    "num_runs = 100\n",
    "\n",
    "counter = 0\n",
    "rel_changes = []\n",
    "for i in range(num_runs):\n",
    "    baseline_mse = get_fitness(features, targets, random_state=i)\n",
    "    if baseline_mse > 100:\n",
    "        continue\n",
    "    new_mse = get_fitness(get_columns(features, _bitstring), targets, random_state=i)\n",
    "    rel_changes.append((baseline_mse - new_mse) / baseline_mse)\n",
    "    if new_mse < baseline_mse:\n",
    "        counter += 1\n",
    "\n",
    "print(counter/num_runs)\n",
    "print(np.mean(rel_changes))"
   ]
  }
 ],
 "metadata": {
  "interpreter": {
   "hash": "f9c0907c4fb57eedd59c1ac1f212940330ed5c7d1ab88cda38e07e2b0f78b418"
  },
  "kernelspec": {
   "display_name": "Python 3.10.4 ('venv': venv)",
   "language": "python",
   "name": "python3"
  },
  "language_info": {
   "codemirror_mode": {
    "name": "ipython",
    "version": 3
   },
   "file_extension": ".py",
   "mimetype": "text/x-python",
   "name": "python",
   "nbconvert_exporter": "python",
   "pygments_lexer": "ipython3",
   "version": "3.10.4"
  },
  "orig_nbformat": 4
 },
 "nbformat": 4,
 "nbformat_minor": 2
}
