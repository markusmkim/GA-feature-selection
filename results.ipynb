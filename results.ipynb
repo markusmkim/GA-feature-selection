{
 "cells": [
  {
   "cell_type": "code",
   "execution_count": null,
   "metadata": {},
   "outputs": [],
   "source": [
    "import numpy as np\n",
    "import pickle\n",
    "import pandas as pd\n",
    "import matplotlib.pyplot as plt\n",
    "import seaborn as sns\n",
    "\n",
    "from GA.utils import get_avg_fitness, entropy\n",
    "from GA.algorithm import run_ga\n",
    "from metrics.lin_reg import get_fitness, get_columns\n",
    "from visualizers.plotters import plot_evolution"
   ]
  },
  {
   "cell_type": "code",
   "execution_count": null,
   "metadata": {},
   "outputs": [],
   "source": [
    "results_path = 'data/results_dict.pickle'\n",
    "features_path = 'data/feature_sets.pickle'\n",
    "targets_path = 'data/target_sets.pickle'"
   ]
  },
  {
   "cell_type": "code",
   "execution_count": null,
   "metadata": {},
   "outputs": [],
   "source": [
    "with open(results_path, 'rb') as file:\n",
    "    results = pickle.load(file)\n",
    "\n",
    "with open(features_path, 'rb') as file:\n",
    "    feature_sets = pickle.load(file)\n",
    "\n",
    "with open(targets_path, 'rb') as file:\n",
    "    target_sets = pickle.load(file)\n"
   ]
  },
  {
   "cell_type": "code",
   "execution_count": null,
   "metadata": {},
   "outputs": [],
   "source": [
    "for key in results.keys():\n",
    "    print('\\n', key)\n",
    "    display(pd.DataFrame(results[key]).drop('final_bitstring'))"
   ]
  },
  {
   "cell_type": "code",
   "execution_count": null,
   "metadata": {},
   "outputs": [],
   "source": [
    "results"
   ]
  },
  {
   "cell_type": "code",
   "execution_count": null,
   "metadata": {},
   "outputs": [],
   "source": [
    "features = feature_sets['two_season_soccermix_history']\n",
    "targets = target_sets['player_season_obv_90_next_season']"
   ]
  },
  {
   "cell_type": "code",
   "execution_count": null,
   "metadata": {},
   "outputs": [],
   "source": []
  },
  {
   "cell_type": "code",
   "execution_count": null,
   "metadata": {},
   "outputs": [],
   "source": [
    "columns_included = []\n",
    "for key in results:\n",
    "    bitstring = results[key]['final_bitstring']\n",
    "    columns = [int(b) for b in bitstring]\n",
    "    columns_included.append(columns)\n",
    "\n",
    "columns_included = np.array(columns_included)\n",
    "res = np.sum(columns_included, axis=0)"
   ]
  },
  {
   "cell_type": "code",
   "execution_count": null,
   "metadata": {},
   "outputs": [],
   "source": [
    "not_used = features.iloc[:, col_indexes_not_used]\n",
    "not_used.columns"
   ]
  },
  {
   "cell_type": "code",
   "execution_count": null,
   "metadata": {},
   "outputs": [],
   "source": [
    "# _bitstring = ''.join(['1' if bit > 1 else '0' for bit in res])\n",
    "# _bitstring = final_population[0].genotype\n",
    "_bitstring = results['player_season_obv_90_next_season']['two_season_soccermix_history']['final_bitstring']"
   ]
  },
  {
   "cell_type": "code",
   "execution_count": null,
   "metadata": {},
   "outputs": [],
   "source": [
    "_bitstring "
   ]
  },
  {
   "cell_type": "code",
   "execution_count": null,
   "metadata": {},
   "outputs": [],
   "source": [
    "col_indexes_used = []\n",
    "col_indexes_not_used = []\n",
    "for i in range(len(_bitstring)):\n",
    "    if _bitstring[i] == '1':\n",
    "        col_indexes_used.append(i)\n",
    "    else:\n",
    "        col_indexes_not_used.append(i)\n",
    "\n",
    "_features = features.iloc[:, col_indexes_used]"
   ]
  },
  {
   "cell_type": "code",
   "execution_count": null,
   "metadata": {},
   "outputs": [],
   "source": [
    "columns = get_columns(features, _bitstring)\n",
    "mse, model = get_fitness(columns, targets, num_runs=6)"
   ]
  },
  {
   "cell_type": "code",
   "execution_count": null,
   "metadata": {},
   "outputs": [],
   "source": [
    "_features.player_season_ot_shots_faced_90.describe()"
   ]
  },
  {
   "cell_type": "code",
   "execution_count": null,
   "metadata": {},
   "outputs": [],
   "source": [
    "coeff_series = pd.Series(model.coef_, _features.columns)\n",
    "coeff_series = coeff_series.drop([\n",
    "    # 'player_season_ot_shots_faced_ratio',\n",
    "    'player_season_ot_shots_faced_90',\n",
    "    'player_season_gsaa_ratio',\n",
    "    # 'player_season_np_psxg_faced_90',\n",
    "    'player_season_goals_faced_90',\n",
    "    'player_season_clcaa',\n",
    "    'player_season_gsaa_90',\n",
    "    # 'player_season_npot_psxg_faced_90',\n",
    "    # 'player_season_da_aggressive_distance',\n",
    "    # 'player_season_xs_ratio',\n",
    "    'league_market_value',\n",
    "    'league_market_value_next_season',\n",
    "    'league_market_value_diff'\n",
    "])\n",
    "plt.rcParams[\"figure.figsize\"] = (20, 70)  # set plot size\n",
    "sns.barplot(x=coeff_series.values, y=coeff_series.index)"
   ]
  },
  {
   "cell_type": "code",
   "execution_count": null,
   "metadata": {},
   "outputs": [],
   "source": [
    "coeff_series = pd.Series(model.coef_, _features.columns)\n",
    "coeff_series = coeff_series['pass_0_1': 'bad_touch_4']\n",
    "plt.rcParams[\"figure.figsize\"] = (20, 30)  # set plot size\n",
    "sns.barplot(x=coeff_series.values, y=coeff_series.index)"
   ]
  },
  {
   "cell_type": "code",
   "execution_count": null,
   "metadata": {},
   "outputs": [],
   "source": [
    "num_runs = 100\n",
    "\n",
    "counter = 0\n",
    "rel_changes = []\n",
    "for i in range(num_runs):\n",
    "    baseline_mse = get_fitness(features, targets, random_state=i)\n",
    "    if baseline_mse > 100:\n",
    "        continue\n",
    "    new_mse = get_fitness(get_columns(features, _bitstring), targets, random_state=i)\n",
    "    rel_changes.append((baseline_mse - new_mse) / baseline_mse)\n",
    "    if new_mse < baseline_mse:\n",
    "        counter += 1\n",
    "\n",
    "print(counter/num_runs)\n",
    "print(np.mean(rel_changes))"
   ]
  }
 ],
 "metadata": {
  "interpreter": {
   "hash": "a0073e9fc12d9a625d7cd1616277c55c36424160a60fc4eff9a27a72ab082525"
  },
  "kernelspec": {
   "display_name": "Python 3.8.9 ('venv': venv)",
   "language": "python",
   "name": "python3"
  },
  "language_info": {
   "codemirror_mode": {
    "name": "ipython",
    "version": 3
   },
   "file_extension": ".py",
   "mimetype": "text/x-python",
   "name": "python",
   "nbconvert_exporter": "python",
   "pygments_lexer": "ipython3",
   "version": "3.8.9"
  },
  "orig_nbformat": 4
 },
 "nbformat": 4,
 "nbformat_minor": 2
}
