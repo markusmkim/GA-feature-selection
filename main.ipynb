{
 "cells": [
  {
   "cell_type": "markdown",
   "metadata": {
    "pycharm": {
     "is_executing": false,
     "name": "#%% md\n"
    }
   },
   "source": [
    "# Data"
   ]
  },
  {
   "cell_type": "markdown",
   "metadata": {},
   "source": [
    "### Imports"
   ]
  },
  {
   "cell_type": "code",
   "execution_count": 1,
   "metadata": {},
   "outputs": [],
   "source": [
    "import numpy as np\n",
    "import os\n",
    "import pickle\n",
    "from GA.utils import get_avg_fitness, entropy\n",
    "from GA.algorithm import run_ga\n",
    "from metrics.lin_reg import get_fitness, get_columns\n",
    "from visualizers.plotters import plot_evolution"
   ]
  },
  {
   "cell_type": "markdown",
   "metadata": {
    "pycharm": {
     "name": "#%% md\n"
    }
   },
   "source": [
    "### Load data"
   ]
  },
  {
   "cell_type": "code",
   "execution_count": 2,
   "metadata": {
    "jupyter": {
     "outputs_hidden": false
    },
    "pycharm": {
     "is_executing": false,
     "name": "#%%\n"
    }
   },
   "outputs": [],
   "source": [
    "import pandas as pd\n",
    "\n",
    "two_season = pd.read_pickle('data/two_season_df.pickle')\n",
    "two_season_soccermix_history = pd.read_pickle('data/two_season_df_soccermix_history.pickle')\n",
    "two_season_soccermix_all = pd.read_pickle('data/two_season_df_soccermix_all.pickle')"
   ]
  },
  {
   "cell_type": "code",
   "execution_count": 3,
   "metadata": {},
   "outputs": [],
   "source": [
    "target_columns = [\n",
    "    'player_season_obv_90_next_season',\n",
    "    'player_season_obv_dribble_carry_90_next_season',\n",
    "    'player_season_obv_pass_90_next_season',\n",
    "    'player_season_obv_shot_90_next_season',\n",
    "    'player_season_obv_defensive_action_90_next_season',\n",
    "\n",
    "    'player_season_obv_90_increase',\n",
    "    'player_season_obv_dribble_carry_90_increase',\n",
    "    'player_season_obv_pass_90_increase',\n",
    "    'player_season_obv_shot_90_increase',\n",
    "    'player_season_obv_defensive_action_90_increase'\n",
    "]"
   ]
  },
  {
   "cell_type": "code",
   "execution_count": 4,
   "metadata": {},
   "outputs": [],
   "source": [
    "two_season['league_market_value_diff'] = two_season.league_market_value_next_season - two_season.league_market_value\n",
    "two_season_soccermix_history['league_market_value_diff'] = two_season_soccermix_history.league_market_value_next_season - two_season_soccermix_history.league_market_value\n",
    "two_season_soccermix_all['league_market_value_diff'] = two_season_soccermix_all.league_market_value_next_season - two_season_soccermix_all.league_market_value"
   ]
  },
  {
   "cell_type": "code",
   "execution_count": 5,
   "metadata": {},
   "outputs": [],
   "source": [
    "drop_cols = [\n",
    "    'player_season_ot_shots_faced_ratio',\n",
    "    'player_season_ot_shots_faced_90',\n",
    "    'player_season_gsaa_ratio',\n",
    "    'player_season_np_psxg_faced_90',\n",
    "    'player_season_goals_faced_90',\n",
    "    'player_season_clcaa',\n",
    "    'player_season_gsaa_90',\n",
    "    'player_season_npot_psxg_faced_90',\n",
    "    'player_season_da_aggressive_distance',\n",
    "    'player_season_xs_ratio',\n",
    "    'league_market_value',\n",
    "    'league_market_value_next_season',\n",
    "    'league_market_value_diff'\n",
    "]\n",
    "two_season.drop(drop_cols, axis=1, inplace=True)\n",
    "two_season_soccermix_history.drop(drop_cols, axis=1, inplace=True)\n",
    "two_season_soccermix_all.drop(drop_cols, axis=1, inplace=True)"
   ]
  },
  {
   "cell_type": "markdown",
   "metadata": {},
   "source": [
    "### Split dataset into features and targets"
   ]
  },
  {
   "cell_type": "code",
   "execution_count": 6,
   "metadata": {
    "jupyter": {
     "outputs_hidden": false
    },
    "pycharm": {
     "is_executing": false,
     "name": "#%%\n"
    }
   },
   "outputs": [],
   "source": [
    "two_season_features = two_season.drop(target_columns, axis=1)\n",
    "two_season_soccermix_history_features = two_season_soccermix_history.drop(target_columns, axis=1)\n",
    "two_season_soccermix_all_features = two_season_soccermix_all.drop(target_columns, axis=1)\n",
    "\n",
    "target_sets = dict([(target, two_season[target]) for target in target_columns[:5]])\n",
    "\n",
    "feature_sets = {\n",
    "    'two_season': two_season_features,\n",
    "    'two_season_soccermix_history': two_season_soccermix_history_features,\n",
    "    'two_season_soccermix_all': two_season_soccermix_all_features,\n",
    "}"
   ]
  },
  {
   "cell_type": "code",
   "execution_count": null,
   "metadata": {},
   "outputs": [],
   "source": [
    "features_path = 'data/feature_sets.pickle'\n",
    "targets_path = 'data/target_sets.pickle'\n",
    "\n",
    "# Create directories if they don't exist\n",
    "os.makedirs(os.path.dirname(features_path), exist_ok=True)\n",
    "os.makedirs(os.path.dirname(targets_path), exist_ok=True)\n",
    "\n",
    "# Save data to file\n",
    "with open(features_path, 'wb') as file:\n",
    "    pickle.dump(feature_sets, file)\n",
    "\n",
    "with open(targets_path, 'wb') as file:\n",
    "    pickle.dump(target_sets, file)"
   ]
  },
  {
   "cell_type": "markdown",
   "metadata": {},
   "source": [
    "# Artificial task"
   ]
  },
  {
   "cell_type": "markdown",
   "metadata": {},
   "source": [
    "### Imports"
   ]
  },
  {
   "cell_type": "code",
   "execution_count": null,
   "metadata": {
    "jupyter": {
     "outputs_hidden": false
    },
    "pycharm": {
     "is_executing": false,
     "name": "#%%\n"
    }
   },
   "outputs": [],
   "source": [
    "# import numpy as np\n",
    "# from math import sin\n",
    "# from GA.algorithm import run_ga\n",
    "# from GA.utils import entropy\n",
    "# from metrics.lin_reg import get_fitness\n",
    "# from visualizers.plotters import plot_population_fitness"
   ]
  },
  {
   "cell_type": "markdown",
   "metadata": {
    "pycharm": {
     "name": "#%% md\n"
    }
   },
   "source": [
    "### Parameters"
   ]
  },
  {
   "cell_type": "code",
   "execution_count": null,
   "metadata": {
    "jupyter": {
     "outputs_hidden": false
    },
    "pycharm": {
     "is_executing": true,
     "name": "#%%\n"
    }
   },
   "outputs": [],
   "source": [
    "# population_size = 50\n",
    "# generations = 10\n",
    "# crossover_rate = 0.8\n",
    "# mutation_rate = 0.1"
   ]
  },
  {
   "cell_type": "markdown",
   "metadata": {},
   "source": [
    "### Fitness function"
   ]
  },
  {
   "cell_type": "code",
   "execution_count": null,
   "metadata": {},
   "outputs": [],
   "source": [
    "# # return sin fitness, positive fitness (fitness shifted to positive interval) and decimal value\n",
    "# def fitness_function(bitstring):\n",
    "#     # get real value of bitstring and scale to fit interval of [0, 128]\n",
    "#     scaling_factor = 2**(-94)\n",
    "#     value = int(bitstring, base=2) * scaling_factor\n",
    "#     fitness = sin(value)\n",
    "#     return fitness, fitness + 1, value"
   ]
  },
  {
   "cell_type": "markdown",
   "metadata": {
    "pycharm": {
     "name": "#%% md\n"
    }
   },
   "source": [
    "### SGA"
   ]
  },
  {
   "cell_type": "code",
   "execution_count": null,
   "metadata": {
    "jupyter": {
     "outputs_hidden": false
    },
    "pycharm": {
     "is_executing": true,
     "name": "#%%\n"
    }
   },
   "outputs": [],
   "source": [
    "# entropy_lst_artificial_task_without_crowding = []\n",
    "\n",
    "# # define custom callback\n",
    "# def callback(population, generation):\n",
    "#     entropy_lst_artificial_task_without_crowding.append(entropy(population))\n",
    "#     plot_population_fitness(population, [0, 128], additional_functions=[np.sin])\n",
    "\n",
    "        \n",
    "\n",
    "# print('Running genetic algorithm \\n')\n",
    "\n",
    "# run_ga(population_size, generations, mutation_rate, crossover_rate, fitness_function, crowding=False, epoch_callback=callback)\n"
   ]
  },
  {
   "cell_type": "markdown",
   "metadata": {},
   "source": [
    "### With crowding"
   ]
  },
  {
   "cell_type": "code",
   "execution_count": null,
   "metadata": {},
   "outputs": [],
   "source": [
    "# entropy_lst_artificial_task_with_crowding = []\n",
    "\n",
    "\n",
    "# def callback(population, generation):\n",
    "#     entropy_lst_artificial_task_with_crowding.append(entropy(population))\n",
    "#     plot_population_fitness(population, [0, 128], additional_functions=[np.sin])\n",
    "\n",
    "\n",
    "# print('Running genetic algorithm \\n')\n",
    "\n",
    "# run_ga(population_size, generations, mutation_rate, crossover_rate, fitness_function, crowding=True, epoch_callback=callback)\n"
   ]
  },
  {
   "cell_type": "markdown",
   "metadata": {},
   "source": [
    "### Compare crowding vs no crowding"
   ]
  },
  {
   "cell_type": "code",
   "execution_count": null,
   "metadata": {},
   "outputs": [],
   "source": [
    "# from visualizers.plotters import plot_and_compare_evolutions\n",
    "\n",
    "# plot_and_compare_evolutions(entropy_lst_artificial_task_without_crowding, \"SGA\", entropy_lst_artificial_task_with_crowding, \"Crowding\", \"Entropy\")"
   ]
  },
  {
   "cell_type": "markdown",
   "metadata": {
    "pycharm": {
     "name": "#%% md\n"
    }
   },
   "source": [
    "# Real task"
   ]
  },
  {
   "cell_type": "markdown",
   "metadata": {},
   "source": [
    "### Parameters"
   ]
  },
  {
   "cell_type": "code",
   "execution_count": 7,
   "metadata": {},
   "outputs": [],
   "source": [
    "population_size = 100\n",
    "generations = 100\n",
    "crossover_rate = 0.8\n",
    "mutation_rate = 0.1"
   ]
  },
  {
   "cell_type": "code",
   "execution_count": 9,
   "metadata": {},
   "outputs": [
    {
     "name": "stdout",
     "output_type": "stream",
     "text": [
      "MSE without feature selection:  0.006593500095984382\n",
      "Generation   0  | Population MSE ==>   0.00629549482749778\n",
      "Generation  10  | Population MSE ==>   0.006108362518515869\n"
     ]
    },
    {
     "data": {
      "image/png": "[encoded data removed]",
      "text/plain": [
       "<Figure size 432x288 with 1 Axes>"
      ]
     },
     "metadata": {
      "needs_background": "light"
     },
     "output_type": "display_data"
    }
   ],
   "source": [
    "# features = feature_sets['two_season_soccermix_history']\n",
    "# targets = target_sets['player_season_obv_90_next_season']\n",
    "\n",
    "# mse_lst = []\n",
    "\n",
    "# def callback(population, generation):\n",
    "#     mse = get_avg_fitness(population)\n",
    "#     mse_lst.append(mse)\n",
    "#     if generation % 10 == 0:\n",
    "#         space = \" \" if generation == 0 else \"\"\n",
    "#         print('Generation', space, str(generation) ,' | Population MSE ==>  ', mse)\n",
    "\n",
    "# def fitness_function(bitstring):\n",
    "#     columns = get_columns(features, bitstring)\n",
    "#     mse = get_fitness(columns, targets, n_splits=5)\n",
    "    \n",
    "#     # since we want lower rmse to be better\n",
    "#     positive_fitness = 1 / ((mse**4) * 100)\n",
    "#     return mse, positive_fitness, None\n",
    "\n",
    "# # print('MSE without feature selection: ', get_fitness(features, targets)) # print('\\nRunning genetic algorithm \\n')\n",
    "\n",
    "# initial_mse = get_fitness(features.to_numpy(), targets.to_numpy(), n_splits=5)\n",
    "# print('MSE without feature selection: ', initial_mse)\n",
    "\n",
    "# final_population = run_ga(len(features.columns), population_size, generations, mutation_rate, crossover_rate, fitness_function, epoch_callback=callback)\n",
    "# final_population.sort(key=lambda x: x.fitness)\n",
    "\n",
    "# plot_evolution(mse_lst, \"MSE - SGA\")"
   ]
  },
  {
   "cell_type": "markdown",
   "metadata": {},
   "source": [
    "### SGA"
   ]
  },
  {
   "cell_type": "code",
   "execution_count": null,
   "metadata": {
    "jupyter": {
     "outputs_hidden": false
    },
    "pycharm": {
     "is_executing": false,
     "name": "#%%\n"
    }
   },
   "outputs": [],
   "source": [
    "# entropy_lst_real_task_without_crowding = []\n",
    "# rmse_lst_without_crowding = []\n",
    "results = {}\n",
    "counter = 0\n",
    "\n",
    "for target_key in target_sets.keys():\n",
    "    results[target_key] = {}\n",
    "    for feature_key in feature_sets.keys():\n",
    "\n",
    "        features = feature_sets[feature_key]\n",
    "        targets = target_sets[target_key]\n",
    "\n",
    "        def fitness_function(bitstring):\n",
    "            columns = get_columns(features, bitstring)\n",
    "            mse = get_fitness(columns, targets,  n_splits=5)\n",
    "            \n",
    "            # since we want lower rmse to be better\n",
    "            positive_fitness = 1 / ((mse**4) * 100)\n",
    "            return mse, positive_fitness, None\n",
    "\n",
    "        # print('MSE without feature selection: ', get_fitness(features, targets))# print('\\nRunning genetic algorithm \\n')\n",
    "\n",
    "        initial_mse = get_fitness(features.to_numpy(), targets.to_numpy(), n_splits=5)        \n",
    "\n",
    "        final_population = run_ga(len(features.columns), population_size, generations, mutation_rate, crossover_rate, fitness_function) # , epoch_callback=callback)\n",
    "        final_population.sort(key=lambda x: x.fitness)\n",
    "\n",
    "        result = {\n",
    "            'final_bitstring': final_population[0].genotype,\n",
    "            'initial_mse:': initial_mse,\n",
    "            'final_mse': final_population[0].fitness,\n",
    "        }\n",
    "\n",
    "        results[target_key][feature_key] = result\n",
    "\n",
    "        print(counter)\n",
    "        counter += 1\n",
    "\n",
    "# plot_evolution(rmse_lst_without_crowding, \"MSE - SGA\")"
   ]
  },
  {
   "cell_type": "code",
   "execution_count": null,
   "metadata": {},
   "outputs": [],
   "source": [
    "results_dict_path = 'data/results_dict.pickle'\n",
    "\n",
    "# Create directories if they don't exist\n",
    "os.makedirs(os.path.dirname(results_dict_path), exist_ok=True)\n",
    "\n",
    "# Save data to file\n",
    "with open(results_dict_path, 'wb') as file:\n",
    "    pickle.dump(results, file)"
   ]
  },
  {
   "cell_type": "markdown",
   "metadata": {},
   "source": [
    "### With crowding"
   ]
  },
  {
   "cell_type": "code",
   "execution_count": null,
   "metadata": {},
   "outputs": [],
   "source": [
    "# entropy_lst_real_task_with_crowding = []\n",
    "# rmse_lst_with_crowding = []\n",
    "\n",
    "# # define custom callback\n",
    "# def callback(population, generation):\n",
    "#     entropy_lst_real_task_with_crowding.append(entropy(population))\n",
    "#     rmse = get_avg_fitness(population)\n",
    "#     rmse_lst_with_crowding.append(rmse)\n",
    "#     if generation % 10 == 0:\n",
    "#         space = \" \" if generation == 0 else \"\"\n",
    "#         print('Generation', space, str(generation) ,' | Population MSE ==>  ', rmse)\n",
    "\n",
    "        \n",
    "\n",
    "# print('MSE without feature selection: ', get_fitness(data, targets))\n",
    "\n",
    "# print('\\nRunning genetic algorithm \\n')\n",
    "\n",
    "# final_population = run_ga(population_size, generations, mutation_rate, crossover_rate, fitness_function, crowding=True, epoch_callback=callback)\n",
    "\n",
    "# plot_evolution(rmse_lst_with_crowding, \"MSE - Crowding\")"
   ]
  },
  {
   "cell_type": "markdown",
   "metadata": {},
   "source": [
    "### Compare crowding vs no crowding"
   ]
  },
  {
   "cell_type": "code",
   "execution_count": null,
   "metadata": {},
   "outputs": [],
   "source": [
    "# from visualizers.plotters import plot_and_compare_evolutions\n",
    "\n",
    "# plot_and_compare_evolutions(rmse_lst_without_crowding, \"SGA\", rmse_lst_with_crowding, \"Crowding\", \"RMSE\")\n",
    "# plot_and_compare_evolutions(entropy_lst_real_task_without_crowding, \"SGA\", entropy_lst_real_task_with_crowding, \"Crowding\", \"Entropy\")"
   ]
  }
 ],
 "metadata": {
  "interpreter": {
   "hash": "a0073e9fc12d9a625d7cd1616277c55c36424160a60fc4eff9a27a72ab082525"
  },
  "kernelspec": {
   "display_name": "Python 3.8.9 ('venv': venv)",
   "language": "python",
   "name": "python3"
  },
  "language_info": {
   "codemirror_mode": {
    "name": "ipython",
    "version": 3
   },
   "file_extension": ".py",
   "mimetype": "text/x-python",
   "name": "python",
   "nbconvert_exporter": "python",
   "pygments_lexer": "ipython3",
   "version": "3.8.9"
  },
  "pycharm": {
   "stem_cell": {
    "cell_type": "raw",
    "metadata": {
     "collapsed": false
    },
    "source": []
   }
  }
 },
 "nbformat": 4,
 "nbformat_minor": 4
}
