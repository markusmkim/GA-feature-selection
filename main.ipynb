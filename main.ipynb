{
 "cells": [
  {
   "cell_type": "markdown",
   "metadata": {
    "pycharm": {
     "is_executing": false,
     "name": "#%% md\n"
    }
   },
   "source": [
    "# Data"
   ]
  },
  {
   "cell_type": "markdown",
   "metadata": {},
   "source": [
    "### Imports"
   ]
  },
  {
   "cell_type": "code",
   "execution_count": 1,
   "metadata": {},
   "outputs": [],
   "source": [
    "import numpy as np\n",
    "import os\n",
    "import pickle\n",
    "import seaborn as sns\n",
    "import matplotlib.pyplot as plt\n",
    "from GA.utils import get_avg_fitness, entropy\n",
    "from GA.algorithm import run_ga\n",
    "from metrics.lin_reg import get_fitness_lin_reg, get_fitness_log_reg,get_columns\n",
    "from visualizers.plotters import plot_evolution"
   ]
  },
  {
   "cell_type": "markdown",
   "metadata": {
    "pycharm": {
     "name": "#%% md\n"
    }
   },
   "source": [
    "### Load data"
   ]
  },
  {
   "cell_type": "code",
   "execution_count": 2,
   "metadata": {
    "jupyter": {
     "outputs_hidden": false
    },
    "pycharm": {
     "is_executing": false,
     "name": "#%%\n"
    }
   },
   "outputs": [],
   "source": [
    "import pandas as pd\n",
    "\n",
    "two_season = pd.read_pickle('data/two_season_df.pickle')\n",
    "two_season_soccermix_history = pd.read_pickle('data/two_season_df_soccermix_history.pickle')\n",
    "two_season_soccermix_all = pd.read_pickle('data/two_season_df_soccermix_all.pickle')"
   ]
  },
  {
   "cell_type": "code",
   "execution_count": 3,
   "metadata": {},
   "outputs": [],
   "source": [
    "linear_target_columns = [\n",
    "    'player_season_obv_90_next_season',\n",
    "    'player_season_obv_dribble_carry_90_next_season',\n",
    "    'player_season_obv_pass_90_next_season',\n",
    "    'player_season_obv_shot_90_next_season',\n",
    "    'player_season_obv_defensive_action_90_next_season'\n",
    "]\n",
    "\n",
    "binary_target_columns = [\n",
    "    'player_season_obv_90_increase',\n",
    "    'player_season_obv_dribble_carry_90_increase',\n",
    "    'player_season_obv_pass_90_increase',\n",
    "    'player_season_obv_shot_90_increase',\n",
    "    'player_season_obv_defensive_action_90_increase'\n",
    "]"
   ]
  },
  {
   "cell_type": "code",
   "execution_count": 4,
   "metadata": {},
   "outputs": [],
   "source": [
    "two_season['league_market_value_diff'] = two_season.league_market_value_next_season - two_season.league_market_value\n",
    "two_season_soccermix_history['league_market_value_diff'] = two_season_soccermix_history.league_market_value_next_season - two_season_soccermix_history.league_market_value\n",
    "two_season_soccermix_all['league_market_value_diff'] = two_season_soccermix_all.league_market_value_next_season - two_season_soccermix_all.league_market_value\n",
    "\n",
    "two_season.drop(['league_market_value_next_season', 'league_market_value'], axis=1, inplace=True)\n",
    "two_season_soccermix_history.drop(['league_market_value_next_season', 'league_market_value'], axis=1, inplace=True)\n",
    "two_season_soccermix_all.drop(['league_market_value_next_season', 'league_market_value'], axis=1, inplace=True)"
   ]
  },
  {
   "cell_type": "code",
   "execution_count": 5,
   "metadata": {},
   "outputs": [],
   "source": [
    "drop_cols = [  # mostly keeper cols\n",
    "    'player_season_ot_shots_faced_ratio',\n",
    "    'player_season_ot_shots_faced_90',\n",
    "    'player_season_shots_faced_90',\n",
    "    'player_season_np_xg_faced_90',\n",
    "    'player_season_gsaa_ratio',\n",
    "    'player_season_np_psxg_faced_90',\n",
    "    'player_season_goals_faced_90',\n",
    "    'player_season_clcaa',\n",
    "    'player_season_gsaa_90',\n",
    "    'player_season_npot_psxg_faced_90',\n",
    "    'player_season_da_aggressive_distance',\n",
    "    'player_season_xs_ratio',\n",
    "    'league_market_value_diff'\n",
    "]\n",
    "two_season.drop(drop_cols, axis=1, inplace=True)\n",
    "two_season_soccermix_history.drop(drop_cols, axis=1, inplace=True)\n",
    "two_season_soccermix_all.drop(drop_cols, axis=1, inplace=True)"
   ]
  },
  {
   "cell_type": "code",
   "execution_count": 6,
   "metadata": {},
   "outputs": [],
   "source": [
    "# corr = two_season.iloc[0:136].corr()\n",
    "# _corr = two_season.corr()"
   ]
  },
  {
   "cell_type": "code",
   "execution_count": 7,
   "metadata": {},
   "outputs": [],
   "source": [
    "# [col for col in two_season.columns if '_op_' in col]"
   ]
  },
  {
   "cell_type": "code",
   "execution_count": 8,
   "metadata": {},
   "outputs": [],
   "source": [
    "# aa = {}\n",
    "# for col in _corr.columns:\n",
    "#     for row in _corr.index:\n",
    "#         if row == col:\n",
    "#             continue\n",
    "#         if f'{row}-{col}' in aa.keys():\n",
    "#             continue\n",
    "#         v =  _corr.loc[row, col]\n",
    "#         if v > 0.95 or v < -0.95:\n",
    "#             aa[f'{col}-{row}'] = v\n",
    "# aa"
   ]
  },
  {
   "cell_type": "code",
   "execution_count": 9,
   "metadata": {},
   "outputs": [],
   "source": [
    "# extra_cols_to_drop = [\n",
    "#     'player_season_sp_key_passes_90',\n",
    "#     'player_season_op_xgbuildup',\n",
    "#     'player_season_xgbuildup',\n",
    "#     'player_season_op_xgchain',\n",
    "#     'player_season_average_x_pressure',\n",
    "#     'player_season_touches_inside_box_90',\n",
    "#     'player_season_op_xgchain_per_possession',\n",
    "#     'player_season_pressured_long_balls_90',\n",
    "#     'player_season_ps_pass_length',\n",
    "#     'player_season_aggressive_actions_90',\n",
    "#     'player_season_clearance_90',\n",
    "#     'player_season_s_pass_length',\n",
    "#     'player_season_op_xgbuildup_per_possession',\n",
    "#     'player_season_npg_90',\n",
    "#     'player_season_starting_appearances',\n",
    "#     'player_season_total_dribbles_90',\n",
    "#     'player_season_op_xgchain_90',\n",
    "#     'player_season_op_xgbuildup_90',\n",
    "#     'player_season_average_x_defensive_action',\n",
    "    \n",
    "# ]"
   ]
  },
  {
   "cell_type": "code",
   "execution_count": 10,
   "metadata": {},
   "outputs": [],
   "source": [
    "# two_season.drop(extra_cols_to_drop, axis=1, inplace=True)\n",
    "# two_season_soccermix_history.drop(extra_cols_to_drop, axis=1, inplace=True)\n",
    "# two_season_soccermix_all.drop(extra_cols_to_drop, axis=1, inplace=True)"
   ]
  },
  {
   "cell_type": "markdown",
   "metadata": {},
   "source": [
    "### Split dataset into features and targets"
   ]
  },
  {
   "cell_type": "code",
   "execution_count": 11,
   "metadata": {
    "jupyter": {
     "outputs_hidden": false
    },
    "pycharm": {
     "is_executing": false,
     "name": "#%%\n"
    }
   },
   "outputs": [],
   "source": [
    "two_season_features = two_season.drop(linear_target_columns + binary_target_columns, axis=1)\n",
    "two_season_soccermix_history_features = two_season_soccermix_history.drop(linear_target_columns + binary_target_columns, axis=1)\n",
    "two_season_soccermix_all_features = two_season_soccermix_all.drop(linear_target_columns + binary_target_columns, axis=1)\n",
    "\n",
    "linear_target_sets = dict([(target, two_season[target]) for target in linear_target_columns])\n",
    "binary_target_sets = dict([(target, two_season[target]) for target in binary_target_columns])\n",
    "\n",
    "feature_sets = {\n",
    "    'two_season': two_season_features,\n",
    "    'two_season_soccermix_history': two_season_soccermix_history_features,\n",
    "    'two_season_soccermix_all': two_season_soccermix_all_features,\n",
    "}"
   ]
  },
  {
   "cell_type": "code",
   "execution_count": 12,
   "metadata": {},
   "outputs": [],
   "source": [
    "features_path = 'data/feature_sets.pickle'\n",
    "lin_targets_path = 'data/linear_target_sets.pickle'\n",
    "bin_targets_path = 'data/binary_target_sets.pickle'\n",
    "\n",
    "# Create directories if they don't exist\n",
    "os.makedirs(os.path.dirname(features_path), exist_ok=True)\n",
    "os.makedirs(os.path.dirname(lin_targets_path), exist_ok=True)\n",
    "os.makedirs(os.path.dirname(bin_targets_path), exist_ok=True)\n",
    "\n",
    "# Save data to file\n",
    "with open(features_path, 'wb') as file:\n",
    "    pickle.dump(feature_sets, file)\n",
    "\n",
    "with open(lin_targets_path, 'wb') as file:\n",
    "    pickle.dump(linear_target_sets, file)\n",
    "\n",
    "with open(bin_targets_path, 'wb') as file:\n",
    "    pickle.dump(binary_target_sets, file)"
   ]
  },
  {
   "cell_type": "markdown",
   "metadata": {},
   "source": [
    "# Artificial task"
   ]
  },
  {
   "cell_type": "markdown",
   "metadata": {},
   "source": [
    "### Imports"
   ]
  },
  {
   "cell_type": "code",
   "execution_count": 13,
   "metadata": {
    "jupyter": {
     "outputs_hidden": false
    },
    "pycharm": {
     "is_executing": false,
     "name": "#%%\n"
    }
   },
   "outputs": [],
   "source": [
    "# import numpy as np\n",
    "# from math import sin\n",
    "# from GA.algorithm import run_ga\n",
    "# from GA.utils import entropy\n",
    "# from metrics.lin_reg import get_fitness\n",
    "# from visualizers.plotters import plot_population_fitness"
   ]
  },
  {
   "cell_type": "markdown",
   "metadata": {
    "pycharm": {
     "name": "#%% md\n"
    }
   },
   "source": [
    "### Parameters"
   ]
  },
  {
   "cell_type": "code",
   "execution_count": 14,
   "metadata": {
    "jupyter": {
     "outputs_hidden": false
    },
    "pycharm": {
     "is_executing": true,
     "name": "#%%\n"
    }
   },
   "outputs": [],
   "source": [
    "# population_size = 50\n",
    "# generations = 10\n",
    "# crossover_rate = 0.8\n",
    "# mutation_rate = 0.1"
   ]
  },
  {
   "cell_type": "markdown",
   "metadata": {},
   "source": [
    "### Fitness function"
   ]
  },
  {
   "cell_type": "code",
   "execution_count": 15,
   "metadata": {},
   "outputs": [],
   "source": [
    "# # return sin fitness, positive fitness (fitness shifted to positive interval) and decimal value\n",
    "# def fitness_function(bitstring):\n",
    "#     # get real value of bitstring and scale to fit interval of [0, 128]\n",
    "#     scaling_factor = 2**(-94)\n",
    "#     value = int(bitstring, base=2) * scaling_factor\n",
    "#     fitness = sin(value)\n",
    "#     return fitness, fitness + 1, value"
   ]
  },
  {
   "cell_type": "markdown",
   "metadata": {
    "pycharm": {
     "name": "#%% md\n"
    }
   },
   "source": [
    "### SGA"
   ]
  },
  {
   "cell_type": "code",
   "execution_count": 16,
   "metadata": {
    "jupyter": {
     "outputs_hidden": false
    },
    "pycharm": {
     "is_executing": true,
     "name": "#%%\n"
    }
   },
   "outputs": [],
   "source": [
    "# entropy_lst_artificial_task_without_crowding = []\n",
    "\n",
    "# # define custom callback\n",
    "# def callback(population, generation):\n",
    "#     entropy_lst_artificial_task_without_crowding.append(entropy(population))\n",
    "#     plot_population_fitness(population, [0, 128], additional_functions=[np.sin])\n",
    "\n",
    "        \n",
    "\n",
    "# print('Running genetic algorithm \\n')\n",
    "\n",
    "# run_ga(population_size, generations, mutation_rate, crossover_rate, fitness_function, crowding=False, epoch_callback=callback)\n"
   ]
  },
  {
   "cell_type": "markdown",
   "metadata": {},
   "source": [
    "### With crowding"
   ]
  },
  {
   "cell_type": "code",
   "execution_count": 17,
   "metadata": {},
   "outputs": [],
   "source": [
    "# entropy_lst_artificial_task_with_crowding = []\n",
    "\n",
    "\n",
    "# def callback(population, generation):\n",
    "#     entropy_lst_artificial_task_with_crowding.append(entropy(population))\n",
    "#     plot_population_fitness(population, [0, 128], additional_functions=[np.sin])\n",
    "\n",
    "\n",
    "# print('Running genetic algorithm \\n')\n",
    "\n",
    "# run_ga(population_size, generations, mutation_rate, crossover_rate, fitness_function, crowding=True, epoch_callback=callback)\n"
   ]
  },
  {
   "cell_type": "markdown",
   "metadata": {},
   "source": [
    "### Compare crowding vs no crowding"
   ]
  },
  {
   "cell_type": "code",
   "execution_count": 18,
   "metadata": {},
   "outputs": [],
   "source": [
    "# from visualizers.plotters import plot_and_compare_evolutions\n",
    "\n",
    "# plot_and_compare_evolutions(entropy_lst_artificial_task_without_crowding, \"SGA\", entropy_lst_artificial_task_with_crowding, \"Crowding\", \"Entropy\")"
   ]
  },
  {
   "cell_type": "markdown",
   "metadata": {
    "pycharm": {
     "name": "#%% md\n"
    }
   },
   "source": [
    "# Real task"
   ]
  },
  {
   "cell_type": "markdown",
   "metadata": {},
   "source": [
    "### Parameters"
   ]
  },
  {
   "cell_type": "code",
   "execution_count": 19,
   "metadata": {},
   "outputs": [],
   "source": [
    "population_size = 100\n",
    "generations = 80\n",
    "crossover_rate = 0.8\n",
    "mutation_rate = 0.1"
   ]
  },
  {
   "cell_type": "code",
   "execution_count": 20,
   "metadata": {},
   "outputs": [],
   "source": [
    "# for target_key in linear_target_sets.keys():\n",
    "#     for feature_key in feature_sets.keys():\n",
    "#         features = feature_sets[feature_key]\n",
    "#         targets = linear_target_sets[target_key]\n",
    "#         print(get_fitness_lin_reg(features.to_numpy(), targets.to_numpy(), n_splits=5, include_mae=True))\n"
   ]
  },
  {
   "cell_type": "code",
   "execution_count": 21,
   "metadata": {},
   "outputs": [],
   "source": [
    "# for target_key in binary_target_sets.keys():\n",
    "#     for feature_key in feature_sets.keys():\n",
    "#         features = feature_sets[feature_key]\n",
    "#         targets = binary_target_sets[target_key]\n",
    "#         print(get_fitness_log_reg(features.to_numpy(), targets.to_numpy(), n_splits=5))"
   ]
  },
  {
   "cell_type": "markdown",
   "metadata": {},
   "source": [
    "### Linear regression"
   ]
  },
  {
   "cell_type": "code",
   "execution_count": 22,
   "metadata": {
    "jupyter": {
     "outputs_hidden": false
    },
    "pycharm": {
     "is_executing": false,
     "name": "#%%\n"
    }
   },
   "outputs": [
    {
     "name": "stdout",
     "output_type": "stream",
     "text": [
      "0\n",
      "1\n",
      "2\n",
      "3\n",
      "4\n",
      "5\n",
      "6\n",
      "7\n",
      "8\n",
      "9\n",
      "10\n",
      "11\n",
      "12\n",
      "13\n",
      "14\n"
     ]
    }
   ],
   "source": [
    "linear_results = {}\n",
    "counter = 0\n",
    "\n",
    "for target_key in linear_target_sets.keys():\n",
    "    linear_results[target_key] = {}\n",
    "    for feature_key in feature_sets.keys():\n",
    "\n",
    "        features = feature_sets[feature_key]\n",
    "        targets = linear_target_sets[target_key]\n",
    "\n",
    "        def fitness_function(bitstring):\n",
    "            columns = get_columns(features, bitstring)\n",
    "            mse = get_fitness_lin_reg(columns, targets,  n_splits=5)\n",
    "            \n",
    "            # since we want lower rmse to be better\n",
    "            positive_fitness = 1 / ((mse**2) * 100)\n",
    "            return mse, positive_fitness, None    \n",
    "\n",
    "        final_population = run_ga(len(features.columns), population_size, generations, mutation_rate, crossover_rate, fitness_function)\n",
    "        final_population.sort(key=lambda x: x.fitness)\n",
    "\n",
    "        linear_results[target_key][feature_key] = final_population[0].genotype\n",
    "\n",
    "        print(counter)\n",
    "        counter += 1"
   ]
  },
  {
   "cell_type": "code",
   "execution_count": 23,
   "metadata": {},
   "outputs": [],
   "source": [
    "linear_results_dict_path = 'data/linear_results_dict.pickle'\n",
    "\n",
    "# Create directories if they don't exist\n",
    "os.makedirs(os.path.dirname(linear_results_dict_path), exist_ok=True)\n",
    "\n",
    "# Save data to file\n",
    "with open(linear_results_dict_path, 'wb') as file:\n",
    "    pickle.dump(linear_results, file)"
   ]
  },
  {
   "cell_type": "markdown",
   "metadata": {},
   "source": [
    "### Logistic regression"
   ]
  },
  {
   "cell_type": "code",
   "execution_count": 24,
   "metadata": {},
   "outputs": [
    {
     "name": "stdout",
     "output_type": "stream",
     "text": [
      "0\n",
      "1\n",
      "2\n",
      "3\n",
      "4\n",
      "5\n",
      "6\n",
      "7\n",
      "8\n",
      "9\n",
      "10\n",
      "11\n",
      "12\n",
      "13\n",
      "14\n"
     ]
    }
   ],
   "source": [
    "binary_results = {}\n",
    "counter = 0\n",
    "\n",
    "for target_key in binary_target_sets.keys():\n",
    "    binary_results[target_key] = {}\n",
    "    for feature_key in feature_sets.keys():\n",
    "\n",
    "        features = feature_sets[feature_key]\n",
    "        targets = binary_target_sets[target_key]\n",
    "\n",
    "        def fitness_function(bitstring):\n",
    "            columns = get_columns(features, bitstring)\n",
    "            score = get_fitness_log_reg(columns, targets,  n_splits=5)\n",
    "            positive_fitness = score**2\n",
    "            return score, positive_fitness, None    \n",
    "\n",
    "        final_population = run_ga(len(features.columns), population_size, generations, mutation_rate, crossover_rate, fitness_function)\n",
    "        final_population.sort(key=lambda x: x.fitness, reverse=True)\n",
    "\n",
    "        binary_results[target_key][feature_key] = final_population[0].genotype\n",
    "\n",
    "        print(counter)\n",
    "        counter += 1"
   ]
  },
  {
   "cell_type": "code",
   "execution_count": 25,
   "metadata": {},
   "outputs": [],
   "source": [
    "binary_results_dict_path = 'data/binary_results_dict.pickle'\n",
    "\n",
    "# Create directories if they don't exist\n",
    "os.makedirs(os.path.dirname(binary_results_dict_path), exist_ok=True)\n",
    "\n",
    "# Save data to file\n",
    "with open(binary_results_dict_path, 'wb') as file:\n",
    "    pickle.dump(binary_results, file)"
   ]
  },
  {
   "cell_type": "markdown",
   "metadata": {},
   "source": [
    "### With crowding"
   ]
  },
  {
   "cell_type": "code",
   "execution_count": 26,
   "metadata": {},
   "outputs": [],
   "source": [
    "# entropy_lst_real_task_with_crowding = []\n",
    "# rmse_lst_with_crowding = []\n",
    "\n",
    "# # define custom callback\n",
    "# def callback(population, generation):\n",
    "#     entropy_lst_real_task_with_crowding.append(entropy(population))\n",
    "#     rmse = get_avg_fitness(population)\n",
    "#     rmse_lst_with_crowding.append(rmse)\n",
    "#     if generation % 10 == 0:\n",
    "#         space = \" \" if generation == 0 else \"\"\n",
    "#         print('Generation', space, str(generation) ,' | Population MSE ==>  ', rmse)\n",
    "\n",
    "        \n",
    "\n",
    "# print('MSE without feature selection: ', get_fitness(data, targets))\n",
    "\n",
    "# print('\\nRunning genetic algorithm \\n')\n",
    "\n",
    "# final_population = run_ga(population_size, generations, mutation_rate, crossover_rate, fitness_function, crowding=True, epoch_callback=callback)\n",
    "\n",
    "# plot_evolution(rmse_lst_with_crowding, \"MSE - Crowding\")"
   ]
  },
  {
   "cell_type": "markdown",
   "metadata": {},
   "source": [
    "### Compare crowding vs no crowding"
   ]
  },
  {
   "cell_type": "code",
   "execution_count": 27,
   "metadata": {},
   "outputs": [],
   "source": [
    "# from visualizers.plotters import plot_and_compare_evolutions\n",
    "\n",
    "# plot_and_compare_evolutions(rmse_lst_without_crowding, \"SGA\", rmse_lst_with_crowding, \"Crowding\", \"RMSE\")\n",
    "# plot_and_compare_evolutions(entropy_lst_real_task_without_crowding, \"SGA\", entropy_lst_real_task_with_crowding, \"Crowding\", \"Entropy\")"
   ]
  }
 ],
 "metadata": {
  "interpreter": {
   "hash": "f9c0907c4fb57eedd59c1ac1f212940330ed5c7d1ab88cda38e07e2b0f78b418"
  },
  "kernelspec": {
   "display_name": "Python 3.10.4 ('venv': venv)",
   "language": "python",
   "name": "python3"
  },
  "language_info": {
   "codemirror_mode": {
    "name": "ipython",
    "version": 3
   },
   "file_extension": ".py",
   "mimetype": "text/x-python",
   "name": "python",
   "nbconvert_exporter": "python",
   "pygments_lexer": "ipython3",
   "version": "3.10.4"
  },
  "pycharm": {
   "stem_cell": {
    "cell_type": "raw",
    "metadata": {
     "collapsed": false
    },
    "source": []
   }
  }
 },
 "nbformat": 4,
 "nbformat_minor": 4
}
